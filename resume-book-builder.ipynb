{
 "cells": [
  {
   "cell_type": "markdown",
   "metadata": {
    "collapsed": true
   },
   "source": [
    "### Gather all resumes\n",
    "\n",
    "This script downloads every resume into a single directory."
   ]
  },
  {
   "cell_type": "code",
   "execution_count": 5,
   "metadata": {
    "collapsed": false
   },
   "outputs": [
    {
     "name": "stdout",
     "output_type": "stream",
     "text": [
      "http://lsa.umich.edu/math/people/quant/bycheng.html\n",
      "retrieved pdf for bycheng\n",
      "http://lsa.umich.edu/math/people/quant/shuyudd.html\n",
      "retrieved pdf for shuyudd\n",
      "http://lsa.umich.edu/math/people/quant/langfeng.html\n",
      "retrieved pdf for langfeng\n",
      "http://lsa.umich.edu/math/people/quant/jiamian.html\n",
      "retrieved pdf for jiamian\n",
      "http://lsa.umich.edu/math/people/quant/koos.html\n",
      "retrieved pdf for koos\n",
      "http://lsa.umich.edu/math/people/quant/dongxuli.html\n",
      "retrieved pdf for dongxuli\n",
      "http://lsa.umich.edu/math/people/quant/lisamich.html\n",
      "retrieved pdf for lisamich\n",
      "http://lsa.umich.edu/math/people/quant/clarali.html\n",
      "retrieved pdf for clarali\n",
      "http://lsa.umich.edu/math/people/quant/linlihe.html\n",
      "UNABLE to retrieve https://linlihe.github.io/LiheResume.pdf\n",
      "http://lsa.umich.edu/math/people/quant/prerna.html\n",
      "retrieved pdf for prerna\n",
      "http://lsa.umich.edu/math/people/quant/lynnshen.html\n",
      "NO PDF SPECIFIED for lynnshen\n",
      "http://lsa.umich.edu/math/people/quant/sfshen.html\n",
      "retrieved pdf for sfshen\n",
      "http://lsa.umich.edu/math/people/quant/wxm.html\n",
      "retrieved pdf for wxm\n",
      "http://lsa.umich.edu/math/people/quant/mengtxia.html\n",
      "retrieved pdf for mengtxia\n",
      "http://lsa.umich.edu/math/people/quant/aixi.html\n",
      "retrieved pdf for aixi\n",
      "http://lsa.umich.edu/math/people/quant/zeyuz.html\n",
      "retrieved pdf for zeyuz\n",
      "http://lsa.umich.edu/math/people/quant/zhoufan.html\n",
      "retrieved pdf for zhoufan\n",
      "http://lsa.umich.edu/math/people/quant/superzz.html\n",
      "retrieved pdf for superzz\n",
      "http://lsa.umich.edu/math/people/quant/wenyuz.html\n",
      "NO PDF SPECIFIED for wenyuz\n"
     ]
    }
   ],
   "source": [
    "import csv\n",
    "import urllib2\n",
    "import bs4\n",
    "import os\n",
    "\n",
    "directory = 'students2017'\n",
    "if not os.path.exists(directory):\n",
    "    os.makedirs(directory)\n",
    "studentsFileName = directory + '.csv'\n",
    "\n",
    "def soupForQFRMuniqname(uniqname):\n",
    "    umichurl = 'http://lsa.umich.edu/math/people/quant/'+uniqname+'.html'\n",
    "    print umichurl\n",
    "    try:\n",
    "        response = urllib2.urlopen(umichurl)\n",
    "        html = response.read()\n",
    "        return bs4.BeautifulSoup(html, 'lxml')\n",
    "    except:\n",
    "        return None\n",
    "\n",
    "def resumePDF(soup):\n",
    "    anchors = soup('a')\n",
    "    githubAnchors =  [a for a in anchors if a.has_attr('href') and 'github.io' in a['href']]\n",
    "    for a in githubAnchors:\n",
    "        if 'pdf' in a['href']:\n",
    "            try:\n",
    "                return urllib2.urlopen(a['href']).read()\n",
    "            except:\n",
    "                print 'UNABLE to retrieve '+ a['href']\n",
    "                return None\n",
    "    print 'NO PDF SPECIFIED for ' + uniqname\n",
    "\n",
    "\n",
    "with open(studentsFileName, 'rU') as csvfile:\n",
    "    studentList = csv.reader(csvfile, delimiter=',')\n",
    "    for student in studentList:\n",
    "        uniqname = student[2]\n",
    "        soup = soupForQFRMuniqname(uniqname)\n",
    "        if soup is not None:\n",
    "            pdf = resumePDF(soup)\n",
    "            if pdf is not None:\n",
    "                print 'retrieved pdf for ' + uniqname\n",
    "                file = open(directory + '/'+uniqname+'.pdf', \"w\")\n",
    "                file.write(pdf)\n",
    "                file.close()\n"
   ]
  },
  {
   "cell_type": "code",
   "execution_count": null,
   "metadata": {
    "collapsed": true
   },
   "outputs": [],
   "source": []
  }
 ],
 "metadata": {
  "kernelspec": {
   "display_name": "Python 2",
   "language": "python",
   "name": "python2"
  },
  "language_info": {
   "codemirror_mode": {
    "name": "ipython",
    "version": 2
   },
   "file_extension": ".py",
   "mimetype": "text/x-python",
   "name": "python",
   "nbconvert_exporter": "python",
   "pygments_lexer": "ipython2",
   "version": "2.7.12"
  }
 },
 "nbformat": 4,
 "nbformat_minor": 0
}
